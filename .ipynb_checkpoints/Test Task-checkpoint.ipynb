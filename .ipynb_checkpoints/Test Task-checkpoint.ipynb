{
 "cells": [
  {
   "cell_type": "markdown",
   "metadata": {},
   "source": [
    "## Define business goal \n",
    "We are trying to predict number of visitors for next year. We have data from the mall with unknown features and weather forecast\n",
    "Data presented for each day, we will use regression model to predict the results"
   ]
  },
  {
   "cell_type": "markdown",
   "metadata": {},
   "source": [
    "Import libraries"
   ]
  },
  {
   "cell_type": "code",
   "execution_count": 1,
   "metadata": {},
   "outputs": [],
   "source": [
    "import pandas as pd\n",
    "import seaborn as sns\n",
    "import numpy as np\n",
    "import matplotlib.pyplot as plt\n",
    "from sklearn.model_selection import train_test_split\n",
    "from sklearn.linear_model import LinearRegression\n",
    "from sklearn.metrics import mean_squared_error, r2_score\n",
    "from math import sqrt\n",
    "from sklearn.metrics import mean_absolute_percentage_error\n",
    "from sklearn.ensemble import RandomForestRegressor\n",
    "from sklearn.model_selection import GridSearchCV, RandomizedSearchCV\n",
    "from sklearn.preprocessing import PolynomialFeatures, LabelEncoder, StandardScaler, RobustScaler, OneHotEncoder\n",
    "from sklearn.impute import SimpleImputer"
   ]
  },
  {
   "cell_type": "code",
   "execution_count": 2,
   "metadata": {},
   "outputs": [],
   "source": [
    "def print_scores(y, y_pred):\n",
    "    rmse = np.sqrt(mean_squared_error(y, y_pred))\n",
    "    r2 = r2_score(y,y_pred)\n",
    "    mape = mean_absolute_percentage_error(y, y_pred)\n",
    "    print('RMSE: ',rmse)\n",
    "    print('R2: ',r2)\n",
    "    print('MAPE: ',mape)"
   ]
  },
  {
   "cell_type": "markdown",
   "metadata": {},
   "source": [
    "Plotting functions"
   ]
  },
  {
   "cell_type": "code",
   "execution_count": 3,
   "metadata": {},
   "outputs": [],
   "source": [
    "plt.rcParams['figure.figsize'] = (14,6)\n",
    "def plot(df, title):\n",
    "    df.plot()\n",
    "    plt.title(title)\n",
    "    plt.ylabel('label')\n",
    "    plt.show()"
   ]
  },
  {
   "cell_type": "markdown",
   "metadata": {},
   "source": [
    "Load data"
   ]
  },
  {
   "cell_type": "code",
   "execution_count": 4,
   "metadata": {},
   "outputs": [],
   "source": [
    "df=pd.read_csv('data/data_train.csv', index_col=0, parse_dates=True)"
   ]
  },
  {
   "cell_type": "code",
   "execution_count": 5,
   "metadata": {},
   "outputs": [],
   "source": [
    "df.index = pd.to_datetime(df.index)"
   ]
  },
  {
   "cell_type": "code",
   "execution_count": 7,
   "metadata": {},
   "outputs": [],
   "source": [
    "df_w=pd.read_csv('data/weather.csv', index_col=0, parse_dates=True)"
   ]
  },
  {
   "cell_type": "code",
   "execution_count": 8,
   "metadata": {},
   "outputs": [],
   "source": [
    "df_w.index = pd.to_datetime(df_w.index)"
   ]
  },
  {
   "cell_type": "code",
   "execution_count": 9,
   "metadata": {},
   "outputs": [],
   "source": [
    "df=df.join(df_w)"
   ]
  },
  {
   "cell_type": "code",
   "execution_count": 10,
   "metadata": {},
   "outputs": [],
   "source": [
    "df = df.drop(['feature_8', 'feature_9', 'feature_3','feature_4', 'feature_5', 'air_temperature_daily_mean', 'air_temperature_daily_min'], axis = 1)"
   ]
  },
  {
   "cell_type": "markdown",
   "metadata": {},
   "source": [
    "We will replace Nan values with mean values for the beginning, but its better to replace with data from another year for this time period"
   ]
  },
  {
   "cell_type": "code",
   "execution_count": 11,
   "metadata": {},
   "outputs": [],
   "source": [
    "df.loc[df['air_humidity'].isna()==True, 'air_humidity']=df['air_humidity'].mean()\n",
    "df.loc[df['air_temperature_daily_max'].isna()==True, 'air_temperature_daily_max']=df['air_temperature_daily_max'].mean()\n",
    "df.loc[df['sunshine_hours'].isna()==True, 'sunshine_hours']=df['sunshine_hours'].mean()\n",
    "df.loc[df['wind_speed_max'].isna()==True, 'wind_speed_max']=df['wind_speed_max'].mean()"
   ]
  },
  {
   "cell_type": "markdown",
   "metadata": {},
   "source": [
    "Feature Engineering"
   ]
  },
  {
   "cell_type": "code",
   "execution_count": 12,
   "metadata": {},
   "outputs": [],
   "source": [
    "df['year']=df.index.year\n",
    "df['month']=df.index.month\n",
    "df['week_day']=df.index.dayofweek\n",
    "df['day']=df.index.day\n",
    "df['step'] = list(range(len(df)))"
   ]
  },
  {
   "cell_type": "code",
   "execution_count": 13,
   "metadata": {},
   "outputs": [],
   "source": [
    "df['date'] = df.index"
   ]
  },
  {
   "cell_type": "code",
   "execution_count": 14,
   "metadata": {},
   "outputs": [
    {
     "data": {
      "text/plain": [
       "Index(['bank_holiday', 'feature_0', 'feature_1', 'feature_2', 'feature_6',\n",
       "       'feature_7', 'school_holiday', 'feature_10', 'label', 'air_humidity',\n",
       "       'air_temperature_daily_max', 'precipitation', 'snow_height',\n",
       "       'sunshine_hours', 'wind_speed_max', 'year', 'month', 'week_day', 'day',\n",
       "       'step', 'date'],\n",
       "      dtype='object')"
      ]
     },
     "execution_count": 14,
     "metadata": {},
     "output_type": "execute_result"
    }
   ],
   "source": [
    "df.columns"
   ]
  },
  {
   "cell_type": "code",
   "execution_count": 15,
   "metadata": {},
   "outputs": [],
   "source": [
    "df = df.join(pd.get_dummies(df['month'], prefix='m', drop_first=True))"
   ]
  },
  {
   "cell_type": "code",
   "execution_count": 16,
   "metadata": {},
   "outputs": [],
   "source": [
    "df = df.join(pd.get_dummies(df['week_day'], prefix='d', drop_first=True))"
   ]
  },
  {
   "cell_type": "code",
   "execution_count": 30,
   "metadata": {},
   "outputs": [],
   "source": [
    "X = df.drop('label', axis = 1)\n",
    "y = df['label']"
   ]
  },
  {
   "cell_type": "code",
   "execution_count": 31,
   "metadata": {},
   "outputs": [],
   "source": [
    "X_train, X_test, y_train, y_test = train_test_split(X, y, random_state=10)"
   ]
  },
  {
   "cell_type": "code",
   "execution_count": 33,
   "metadata": {},
   "outputs": [],
   "source": [
    "X_train_S = X_train[['step', 'm_2', 'm_3', 'm_4', 'm_5', 'm_6', 'm_7', 'm_8', 'm_9',\n",
    "       'm_10', 'm_11', 'm_12', 'd_1', 'd_2', 'd_3', 'd_4', 'd_5', 'd_6']]\n",
    "X_test_S = X_test[['step', 'm_2', 'm_3', 'm_4', 'm_5', 'm_6', 'm_7', 'm_8', 'm_9',\n",
    "       'm_10', 'm_11', 'm_12', 'd_1', 'd_2', 'd_3', 'd_4', 'd_5', 'd_6']]"
   ]
  },
  {
   "cell_type": "code",
   "execution_count": 34,
   "metadata": {},
   "outputs": [],
   "source": [
    "lg=LinearRegression()\n",
    "lg.fit(X_train_S, y_train)\n",
    "y_pred_test = lg.predict(X_test_S)\n",
    "y_pred_train = lg.predict(X_train_S)"
   ]
  },
  {
   "cell_type": "code",
   "execution_count": 35,
   "metadata": {},
   "outputs": [
    {
     "name": "stdout",
     "output_type": "stream",
     "text": [
      "Test\n",
      "RMSE:  442.7491836448369\n",
      "R2:  0.5001580628846594\n",
      "MAPE:  0.3546310045974737\n",
      "Train\n",
      "RMSE:  431.7782846339404\n",
      "R2:  0.5040729023655375\n",
      "MAPE:  0.3484233775228002\n"
     ]
    }
   ],
   "source": [
    "print('Test')\n",
    "print_scores(y_test, y_pred_test)\n",
    "print('Train')\n",
    "print_scores(y_train, y_pred_train)"
   ]
  },
  {
   "cell_type": "code",
   "execution_count": 25,
   "metadata": {
    "scrolled": true
   },
   "outputs": [
    {
     "data": {
      "text/plain": [
       "Index(['bank_holiday', 'feature_0', 'feature_1', 'feature_2', 'feature_6',\n",
       "       'feature_7', 'school_holiday', 'feature_10', 'label', 'air_humidity',\n",
       "       'air_temperature_daily_max', 'precipitation', 'snow_height',\n",
       "       'sunshine_hours', 'wind_speed_max', 'year', 'month', 'week_day', 'day',\n",
       "       'step', 'date', 'm_2', 'm_3', 'm_4', 'm_5', 'm_6', 'm_7', 'm_8', 'm_9',\n",
       "       'm_10', 'm_11', 'm_12', 'd_1', 'd_2', 'd_3', 'd_4', 'd_5', 'd_6',\n",
       "       'predict', 'remainder'],\n",
       "      dtype='object')"
      ]
     },
     "execution_count": 25,
     "metadata": {},
     "output_type": "execute_result"
    }
   ],
   "source": [
    "df.columns"
   ]
  },
  {
   "cell_type": "code",
   "execution_count": 36,
   "metadata": {},
   "outputs": [],
   "source": [
    "X_train_R = X_train[['bank_holiday', 'feature_0', 'feature_1', 'feature_2', 'feature_6',\n",
    "       'feature_7', 'school_holiday', 'feature_10', 'air_humidity',\n",
    "       'air_temperature_daily_max', 'precipitation', 'snow_height',\n",
    "       'sunshine_hours', 'wind_speed_max']]\n",
    "X_test_R = X_test[['bank_holiday', 'feature_0', 'feature_1', 'feature_2', 'feature_6',\n",
    "       'feature_7', 'school_holiday', 'feature_10', 'air_humidity',\n",
    "       'air_temperature_daily_max', 'precipitation', 'snow_height',\n",
    "       'sunshine_hours', 'wind_speed_max']]"
   ]
  },
  {
   "cell_type": "code",
   "execution_count": 37,
   "metadata": {},
   "outputs": [],
   "source": [
    "y_train_R = y_train - y_pred_train\n",
    "y_test_R = y_test - y_pred_test"
   ]
  },
  {
   "cell_type": "code",
   "execution_count": 38,
   "metadata": {},
   "outputs": [],
   "source": [
    "rf=RandomForestRegressor(max_features = 5, max_depth = 12, n_estimators = 250)\n",
    "rf.fit(X_train_R, y_train_R)\n",
    "y_pred_test_R = rf.predict(X_test_R)\n",
    "y_pred_train_R = rf.predict(X_train_R)"
   ]
  },
  {
   "cell_type": "code",
   "execution_count": 39,
   "metadata": {},
   "outputs": [
    {
     "name": "stdout",
     "output_type": "stream",
     "text": [
      "Test\n",
      "RMSE:  350.8065676128561\n",
      "R2:  0.3721984647181239\n",
      "MAPE:  1.8177102432905312\n",
      "Train\n",
      "RMSE:  217.35346399718716\n",
      "R2:  0.746597124507906\n",
      "MAPE:  2.809160051021871\n"
     ]
    }
   ],
   "source": [
    "print('Test')\n",
    "print_scores(y_test_R, y_pred_test_R)\n",
    "print('Train')\n",
    "print_scores(y_train_R, y_pred_train_R)"
   ]
  },
  {
   "cell_type": "code",
   "execution_count": 40,
   "metadata": {},
   "outputs": [
    {
     "name": "stdout",
     "output_type": "stream",
     "text": [
      "date\n",
      "2005-10-08   -648.154089\n",
      "2008-10-16    449.834414\n",
      "2005-11-05    -67.799173\n",
      "2006-11-24    205.398568\n",
      "2007-12-19   -332.156408\n",
      "                 ...    \n",
      "2008-10-11   -289.317031\n",
      "2007-03-15   -479.503361\n",
      "2009-06-14   -994.584891\n",
      "2005-04-28   -337.785731\n",
      "2007-01-18   -602.744240\n",
      "Name: label, Length: 436, dtype: float64 [-1.53896527e+02  2.46041441e+02 -1.63621967e+02 -1.40179861e+02\n",
      " -2.08330775e+02  2.65712683e+02 -1.41343656e+02 -1.93294849e+02\n",
      " -1.96687134e+02  3.28450289e+01 -1.19972192e+02  3.00920653e+01\n",
      "  6.31182202e+01 -1.49815355e+00 -1.73689548e+02 -9.69549020e+01\n",
      " -1.75291263e+02  4.72347177e+02  1.98721077e+02 -4.21599650e+01\n",
      " -1.08618369e+02  1.19541072e+02 -1.98273522e+02  8.26812273e+01\n",
      " -6.23039580e+01  9.09075879e+01 -1.33566089e+02 -1.17278293e+02\n",
      " -1.73866613e+02 -1.10257162e+01  2.78785300e+01 -9.38453568e+01\n",
      "  4.39513012e+01  4.63900305e+01 -5.44047484e+01  2.49059289e+02\n",
      " -1.44215299e+02  6.51569278e+02  1.51087731e+02 -9.96074300e+00\n",
      "  4.54534076e+01 -1.66073440e+01 -2.00268133e+02 -1.33496149e+02\n",
      "  1.22706124e+02 -1.88010151e+02 -2.06377244e+02 -9.99074218e+01\n",
      " -9.40263957e+01  8.16681858e+01 -5.14657620e+01  4.38504725e+02\n",
      "  1.96263921e+02  2.22552154e+02  8.11986780e+01 -1.76694996e+02\n",
      " -2.25066623e+02 -1.69640328e+02 -2.19947313e+02  2.37284190e+02\n",
      "  1.62848478e+02 -1.43312235e+02 -1.21056550e+02  6.79481148e+02\n",
      "  1.95000102e+02  3.10295461e+01 -1.82059975e+02 -1.55275405e+02\n",
      " -5.64412145e+01 -1.02849422e+02 -9.33485853e+01 -1.18054708e+02\n",
      " -3.22067045e+02 -5.33871273e+01 -1.84034176e+02  9.06435665e+02\n",
      "  1.19358459e+02 -6.00361333e+01 -1.98470814e+02 -1.70246062e+02\n",
      " -6.17012559e+01 -1.05024697e+02 -1.66860144e+02  2.12958453e+02\n",
      " -4.14949906e+01 -1.95883291e+02  1.86754375e+02 -2.26052972e+02\n",
      " -1.36527932e+02 -2.38615375e+02  7.00539529e+01 -8.33923095e+01\n",
      "  8.99922070e+00  3.74180385e+02 -1.24343027e+02  3.55521801e+02\n",
      " -1.41821783e+02 -1.89325157e+02 -1.44021850e+02 -8.67835488e+01\n",
      " -1.16557263e+02 -1.66362142e+02 -2.21187821e+02  6.95731042e+02\n",
      " -2.20515920e+02  1.73801303e+02 -1.20718995e+02  7.15931511e+01\n",
      " -1.99763479e+02 -1.01732218e+02 -1.48892313e+02 -9.51054896e+01\n",
      " -1.63599962e+02 -1.79764293e+02 -1.12991192e+02 -1.09261371e+02\n",
      "  5.25376472e+02 -9.06816371e+01 -4.80443522e+00 -7.12024711e+01\n",
      "  5.98217881e+01  2.54816680e+02 -1.77626752e+01 -4.65835621e+02\n",
      " -2.58311822e+02 -2.01581720e+02 -7.98438821e+01 -8.57522132e+01\n",
      "  2.14808802e+01  2.76604460e+02 -2.31990743e+02  2.25165931e+02\n",
      " -4.44181782e+02 -1.07170713e+02  3.06141444e+02 -4.18884802e+02\n",
      " -8.51073107e+01 -1.11280577e+02 -2.44628344e+02 -1.38715910e+02\n",
      " -1.12786636e+02 -1.97313054e+02  1.01591706e+02  4.66516250e+02\n",
      " -6.06056711e-01  5.44491875e+01 -1.55053606e+02 -1.72950010e+02\n",
      " -1.70099196e+02 -1.84760130e+02 -2.31630523e+02  8.93997276e+02\n",
      " -4.07287261e+01  5.00985645e+02 -1.20964540e+02  2.71085471e+01\n",
      "  2.81267855e+02 -1.29306777e+02 -1.20797483e+02  3.48559963e+02\n",
      "  1.48147217e+02 -2.08571668e+02 -6.78122353e+01 -7.63363950e+01\n",
      " -6.71331314e+01  2.67454172e+02 -1.42430021e+02 -5.33696182e+02\n",
      "  4.14311171e+02 -1.25812037e+02 -2.35743513e+02 -2.07631229e+02\n",
      " -1.67278119e+02  2.19761974e+02 -2.05360220e+02  1.03932203e+02\n",
      " -2.88951773e+00  2.18150017e+01 -3.09094922e+01 -1.40270562e+02\n",
      "  1.48730958e+02 -1.80509293e+02  2.04471594e+02 -1.84388305e+02\n",
      " -1.71027619e+02  6.03562071e+02  2.19211631e+02 -1.20620417e+02\n",
      "  2.12464332e+02  2.00893728e+02 -1.51413072e+02 -1.50853557e+02\n",
      " -6.75020374e+01  6.98808909e+02  8.12138260e+01  2.82253112e+02\n",
      "  8.78679736e+01 -3.09325708e+01 -7.77424962e+01 -1.61129618e+02\n",
      " -2.78038239e+01 -8.17690204e+01  3.67360983e+02 -2.12013169e+02\n",
      "  8.10171945e+01  3.38315109e+02 -1.80576900e+02  3.13706406e+02\n",
      "  8.11075156e+02 -1.78881794e+02  5.99048367e+01  8.01688643e+01\n",
      " -5.11202151e+01 -9.09009460e+01 -1.49755968e+02  2.35488545e+02\n",
      "  2.28266961e+02 -1.56085512e+02 -1.06911106e+02  6.11228673e+02\n",
      "  8.87381832e+01 -1.64550092e+02  2.60817318e+02  4.41386350e+02\n",
      " -1.92462033e+02 -6.91333090e+01 -2.04761457e+02  3.44597727e+02\n",
      " -7.98472139e+01  1.64613903e+02 -3.03520449e+01  8.87696522e+02\n",
      "  1.07771625e+02 -1.52764443e+02 -7.31298892e+01 -2.41029988e+02\n",
      "  3.62325723e+02 -1.00077826e+02  6.25297134e+02 -1.31555424e+02\n",
      "  2.06595984e+02  4.19105446e+02  6.85850812e+02  5.67078587e+01\n",
      " -2.19126274e+02  2.09238325e+02 -7.23000231e+01 -1.61022181e+02\n",
      "  2.51076121e+02 -2.83483015e+01 -6.86758558e+01 -2.00232477e+02\n",
      " -1.34269771e+02  5.97152084e+02  3.10277085e+02 -1.22602644e+02\n",
      "  1.40378895e+02  4.39456786e+00 -9.58259223e+01  1.61586492e+01\n",
      " -1.28761387e+02 -2.38479496e+02 -2.73283025e+01  6.16614491e+02\n",
      "  6.80182590e+01 -1.29260457e+02 -2.48125871e+02  4.06711575e+01\n",
      "  1.59431146e+02  2.74564285e+02 -3.15870248e+02 -9.93458938e+01\n",
      " -5.11595942e+01  9.76870575e+01 -2.58216653e+02 -9.38664278e+01\n",
      "  5.62859095e+01 -1.36605309e+02  1.91707200e+02 -9.88112644e+01\n",
      " -1.54262121e+02 -2.00162243e+02 -2.63693197e+02 -1.03757461e+02\n",
      "  7.65577831e+01 -2.60304465e+02 -3.83865249e+02  2.47210029e+02\n",
      " -1.29450569e+02 -2.06511499e+02 -1.63716603e+02  4.83707657e+02\n",
      " -1.36449613e+02  4.90676888e+02  1.27045745e+02 -1.50071139e+02\n",
      " -1.84919776e+02  6.03394837e+02 -1.83512834e+02 -2.32003108e+02\n",
      "  2.81816285e+02  2.52502029e+01 -2.17640254e+02  2.04522217e+02\n",
      " -1.45010000e+02  3.84943815e+01 -1.81671037e+02 -1.26345772e+02\n",
      " -9.13967024e+01 -1.52302358e+02 -1.62392274e+02  2.75333661e+01\n",
      " -7.62668489e+01 -1.21290580e+02  1.25812582e+02  6.68292089e+02\n",
      " -5.78082495e+01  2.04893760e+01 -1.51376641e+02  8.60070899e+01\n",
      " -4.39424549e+02  1.62030170e+02 -2.03747593e+02  2.12840442e+02\n",
      "  1.91071079e+02  2.03701436e+02  2.14360220e+02 -7.37991702e+01\n",
      " -8.64114576e+01 -2.62125092e+02 -1.24260780e+02  3.85421221e+01\n",
      " -1.57298093e+02 -1.45349512e+02 -1.26905616e+02  3.00395875e+02\n",
      " -2.76348605e+02  2.18735527e+02 -5.57736790e+01 -1.67648035e+02\n",
      "  2.16513920e+02 -1.86302951e+01 -8.31783092e+01 -9.37110877e+01\n",
      " -1.33160950e+02  5.87141703e+01 -4.52324197e+02 -9.91310027e+01\n",
      "  3.27752606e+02 -7.49838488e+01 -9.83516262e+01  2.61864516e+02\n",
      "  8.94461325e+01 -2.50467980e+02 -1.87361779e+02 -1.10092773e+02\n",
      "  4.55431167e+02 -1.11047722e+02 -9.54332518e+01  2.25237016e+02\n",
      "  9.35185152e+01  6.68348142e+02 -1.89941784e+02  2.50725546e+02\n",
      "  4.01124742e+02 -1.07665774e+02  3.02889996e-01  2.08538755e+01\n",
      "  6.01001456e+02  2.57165839e+02 -8.32764712e+01  4.42967062e+02\n",
      "  1.18896522e+02 -2.02100477e+01 -8.02074192e+01 -5.23399173e+02\n",
      " -4.90645977e+02 -1.82785191e+02  1.15525732e+02 -1.21599401e+02\n",
      " -1.16227352e+02 -5.92911904e+01  5.21221035e+02 -2.72844297e+01\n",
      " -1.46096737e+02 -7.63030314e+01 -1.20873902e+02  5.54792010e+02\n",
      " -1.17924978e+02 -1.77572882e+02 -1.27432481e+02 -1.58993401e+02\n",
      " -7.51477346e+01 -1.76285605e+02  2.87279840e+02  1.21138613e+02\n",
      " -4.77375846e+02 -5.77329458e+01 -1.54348630e+02 -1.25857451e+02\n",
      " -9.91149685e+01 -8.85475210e+01 -8.62767718e+01 -3.98280325e+02\n",
      " -1.49362205e+02 -1.69468081e+02 -1.76527484e+02 -1.04071289e+02\n",
      " -2.48645285e+02  7.28343824e+01  3.43624727e+02 -1.10135395e+02\n",
      " -1.17438305e+02 -1.39524258e+02 -1.43852375e+02 -1.07284755e+02\n",
      " -1.45729176e+02 -4.86186877e+02 -6.95704891e+01 -1.70024006e+02\n",
      "  2.04966743e+01 -1.98663430e+02 -6.94733512e+01 -2.26664393e+02\n",
      "  2.66065347e+02 -2.52420533e+02  2.05191422e+02 -9.57380021e+01\n",
      " -8.42539809e+01 -2.19516129e+02 -1.82396936e+02 -5.64502288e+01\n",
      " -2.15924412e+02 -3.82331033e+02 -2.08977682e+02  9.42215668e+01]\n"
     ]
    }
   ],
   "source": [
    "print(y_test_R, y_pred_test_R)"
   ]
  },
  {
   "cell_type": "code",
   "execution_count": 41,
   "metadata": {},
   "outputs": [],
   "source": [
    "res_test = y_pred_test_R + y_pred_test\n",
    "res_train = y_pred_train_R + y_pred_train"
   ]
  },
  {
   "cell_type": "code",
   "execution_count": 42,
   "metadata": {},
   "outputs": [
    {
     "name": "stdout",
     "output_type": "stream",
     "text": [
      "Test\n",
      "RMSE:  350.8065676128561\n",
      "R2:  0.6862002570061644\n",
      "MAPE:  0.2621697583793379\n",
      "Train\n",
      "RMSE:  217.35346399718716\n",
      "R2:  0.8743306474249788\n",
      "MAPE:  0.17411555571850557\n"
     ]
    }
   ],
   "source": [
    "print('Test')\n",
    "print_scores(y_test, res_test)\n",
    "print('Train')\n",
    "print_scores(y_train, res_train)"
   ]
  },
  {
   "cell_type": "code",
   "execution_count": null,
   "metadata": {},
   "outputs": [],
   "source": []
  }
 ],
 "metadata": {
  "kernelspec": {
   "display_name": "Python 3",
   "language": "python",
   "name": "python3"
  },
  "language_info": {
   "codemirror_mode": {
    "name": "ipython",
    "version": 3
   },
   "file_extension": ".py",
   "mimetype": "text/x-python",
   "name": "python",
   "nbconvert_exporter": "python",
   "pygments_lexer": "ipython3",
   "version": "3.9.1"
  }
 },
 "nbformat": 4,
 "nbformat_minor": 4
}
