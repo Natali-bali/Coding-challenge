{
 "cells": [
  {
   "cell_type": "markdown",
   "id": "a35fec9d",
   "metadata": {},
   "source": [
    "## Develop a Baseline Neural Network Model"
   ]
  },
  {
   "cell_type": "code",
   "execution_count": 212,
   "id": "db83f558",
   "metadata": {},
   "outputs": [],
   "source": [
    "import pandas as pd\n",
    "import numpy as np\n",
    "from keras.models import Sequential\n",
    "from keras.layers import Dense\n",
    "from keras.wrappers.scikit_learn import KerasRegressor\n",
    "from tensorflow.keras import backend as K\n",
    "from sklearn.model_selection import cross_val_score\n",
    "from sklearn.model_selection import KFold\n",
    "from sklearn.preprocessing import StandardScaler\n",
    "from sklearn.pipeline import Pipeline\n",
    "from tensorflow.keras.models import Sequential\n",
    "from tensorflow.keras.layers import Dense, Activation, Flatten, BatchNormalization\n",
    "from sklearn.model_selection import train_test_split\n",
    "from sklearn.metrics import mean_squared_error, r2_score, mean_absolute_percentage_error\n",
    "from math import sqrt"
   ]
  },
  {
   "cell_type": "code",
   "execution_count": 238,
   "id": "0026646c",
   "metadata": {},
   "outputs": [],
   "source": [
    "def print_scores(y, y_pred):\n",
    "    rmse = np.sqrt(mean_squared_error(y, y_pred))\n",
    "    r2 = r2_score(y,y_pred)\n",
    "    mape = mean_absolute_percentage_error(y, y_pred)\n",
    "    print('RMSE: ',rmse)\n",
    "    print('R2: ',r2)\n",
    "    print('MAPE: ',mape)"
   ]
  },
  {
   "cell_type": "code",
   "execution_count": 195,
   "id": "bd24ebe4",
   "metadata": {},
   "outputs": [],
   "source": [
    "df = pd.read_csv('data/prepared_scaled.csv', index_col = 'date')"
   ]
  },
  {
   "cell_type": "code",
   "execution_count": 196,
   "id": "de85ee43",
   "metadata": {
    "scrolled": false
   },
   "outputs": [
    {
     "data": {
      "text/plain": [
       "Index(['bank_holiday', 'feature_0', 'feature_1', 'feature_2', 'feature_6',\n",
       "       'feature_7', 'school_holiday', 'feature_10', 'label', 'air_humidity',\n",
       "       'air_temperature_daily_max', 'precipitation', 'snow_height',\n",
       "       'sunshine_hours', 'wind_speed_max', 'month', 'week_day', 'step',\n",
       "       'trend', 'm_2', 'm_3', 'm_4', 'm_5', 'm_6', 'm_7', 'm_8', 'm_9', 'm_10',\n",
       "       'm_11', 'm_12', 'd_1', 'd_2'],\n",
       "      dtype='object')"
      ]
     },
     "execution_count": 196,
     "metadata": {},
     "output_type": "execute_result"
    }
   ],
   "source": [
    "df.columns"
   ]
  },
  {
   "cell_type": "code",
   "execution_count": 197,
   "id": "473138fb",
   "metadata": {},
   "outputs": [],
   "source": [
    "X = df.drop('label', axis = 1)\n",
    "y = np.ravel(df['label'])"
   ]
  },
  {
   "cell_type": "code",
   "execution_count": 198,
   "id": "fda9bd6e",
   "metadata": {},
   "outputs": [
    {
     "data": {
      "text/plain": [
       "(1743,)"
      ]
     },
     "execution_count": 198,
     "metadata": {},
     "output_type": "execute_result"
    }
   ],
   "source": [
    "y.shape"
   ]
  },
  {
   "cell_type": "code",
   "execution_count": 199,
   "id": "ade422d3",
   "metadata": {},
   "outputs": [],
   "source": [
    "X_train, X_test, y_train, y_test = train_test_split(X, y, test_size=0.33, random_state=42)"
   ]
  },
  {
   "cell_type": "code",
   "execution_count": 200,
   "id": "1f6d1f10",
   "metadata": {},
   "outputs": [],
   "source": [
    "from sklearn.preprocessing import StandardScaler\n",
    "\n",
    "scaler = StandardScaler().fit(X_train)\n",
    "\n",
    "X_train = scaler.transform(X_train)\n",
    "\n",
    "X_test = scaler.transform(X_test)"
   ]
  },
  {
   "cell_type": "code",
   "execution_count": 201,
   "id": "03f2cf57",
   "metadata": {
    "scrolled": true
   },
   "outputs": [
    {
     "data": {
      "text/plain": [
       "array([[-0.16947163, -0.26762912, -0.23888327, ..., -0.30446121,\n",
       "         2.39701163, -0.41435099],\n",
       "       [-0.16947163, -0.26762912, -0.23888327, ..., -0.30446121,\n",
       "        -0.41718613,  2.41341281],\n",
       "       [-0.16947163, -0.26762912, -0.23888327, ..., -0.30446121,\n",
       "        -0.41718613, -0.41435099],\n",
       "       ...,\n",
       "       [-0.16947163, -0.26762912, -0.23888327, ..., -0.30446121,\n",
       "        -0.41718613, -0.41435099],\n",
       "       [-0.16947163,  3.73651421, -0.23888327, ..., -0.30446121,\n",
       "        -0.41718613,  2.41341281],\n",
       "       [-0.16947163, -0.26762912, -0.23888327, ..., -0.30446121,\n",
       "        -0.41718613, -0.41435099]])"
      ]
     },
     "execution_count": 201,
     "metadata": {},
     "output_type": "execute_result"
    }
   ],
   "source": [
    "X_train"
   ]
  },
  {
   "cell_type": "code",
   "execution_count": 241,
   "id": "6856ade5",
   "metadata": {
    "scrolled": true
   },
   "outputs": [],
   "source": [
    " K.clear_session()"
   ]
  },
  {
   "cell_type": "code",
   "execution_count": 242,
   "id": "0bc7a97f",
   "metadata": {},
   "outputs": [],
   "source": [
    "# create base model\n",
    "model = Sequential()\n",
    "model.add(Dense(32, input_dim=31, activation='relu'))\n",
    "model.add(BatchNormalization(momentum=0.99))\n",
    "model.add(Dense(16, activation='relu'))\n",
    "model.add(BatchNormalization(momentum=0.99))\n",
    "model.add(Dense(1))\n",
    "# Compile model\n",
    "model.compile(loss='mean_squared_error', optimizer='adam', metrics=['accuracy'])"
   ]
  },
  {
   "cell_type": "code",
   "execution_count": 243,
   "id": "c0c1e185",
   "metadata": {},
   "outputs": [
    {
     "name": "stdout",
     "output_type": "stream",
     "text": [
      "Model: \"sequential\"\n",
      "_________________________________________________________________\n",
      "Layer (type)                 Output Shape              Param #   \n",
      "=================================================================\n",
      "dense (Dense)                (None, 32)                1024      \n",
      "_________________________________________________________________\n",
      "batch_normalization (BatchNo (None, 32)                128       \n",
      "_________________________________________________________________\n",
      "dense_1 (Dense)              (None, 16)                528       \n",
      "_________________________________________________________________\n",
      "batch_normalization_1 (Batch (None, 16)                64        \n",
      "_________________________________________________________________\n",
      "dense_2 (Dense)              (None, 1)                 17        \n",
      "=================================================================\n",
      "Total params: 1,761\n",
      "Trainable params: 1,665\n",
      "Non-trainable params: 96\n",
      "_________________________________________________________________\n"
     ]
    }
   ],
   "source": [
    "model.summary()"
   ]
  },
  {
   "cell_type": "code",
   "execution_count": 244,
   "id": "ed494f0a",
   "metadata": {},
   "outputs": [
    {
     "name": "stdout",
     "output_type": "stream",
     "text": [
      "Epoch 1/100\n",
      "164/164 [==============================] - 2s 5ms/step - loss: 1683065.0038 - accuracy: 0.0000e+00 - val_loss: 1759530.6250 - val_accuracy: 0.0000e+00\n",
      "Epoch 2/100\n",
      "164/164 [==============================] - 1s 3ms/step - loss: 1567062.0000 - accuracy: 0.0000e+00 - val_loss: 1747764.0000 - val_accuracy: 0.0000e+00\n",
      "Epoch 3/100\n",
      "164/164 [==============================] - 0s 3ms/step - loss: 1585159.7098 - accuracy: 0.0000e+00 - val_loss: 1729501.1250 - val_accuracy: 0.0000e+00\n",
      "Epoch 4/100\n",
      "164/164 [==============================] - 1s 3ms/step - loss: 1625846.5076 - accuracy: 0.0000e+00 - val_loss: 1705972.1250 - val_accuracy: 0.0000e+00\n",
      "Epoch 5/100\n",
      "164/164 [==============================] - 1s 3ms/step - loss: 1750939.6318 - accuracy: 0.0000e+00 - val_loss: 1675147.5000 - val_accuracy: 0.0000e+00\n",
      "Epoch 6/100\n",
      "164/164 [==============================] - 1s 5ms/step - loss: 1578497.5394 - accuracy: 0.0000e+00 - val_loss: 1636926.3750 - val_accuracy: 0.0000e+00\n",
      "Epoch 7/100\n",
      "164/164 [==============================] - 1s 3ms/step - loss: 1511916.2000 - accuracy: 0.0000e+00 - val_loss: 1608731.5000 - val_accuracy: 0.0000e+00\n",
      "Epoch 8/100\n",
      "164/164 [==============================] - 1s 5ms/step - loss: 1594462.0045 - accuracy: 0.0000e+00 - val_loss: 1560170.1250 - val_accuracy: 0.0000e+00\n",
      "Epoch 9/100\n",
      "164/164 [==============================] - 1s 4ms/step - loss: 1487113.0322 - accuracy: 0.0000e+00 - val_loss: 1493458.5000 - val_accuracy: 0.0000e+00\n",
      "Epoch 10/100\n",
      "164/164 [==============================] - 1s 3ms/step - loss: 1471889.6682 - accuracy: 0.0000e+00 - val_loss: 1453128.8750 - val_accuracy: 0.0000e+00\n",
      "Epoch 11/100\n",
      "164/164 [==============================] - 0s 3ms/step - loss: 1300448.2322 - accuracy: 0.0000e+00 - val_loss: 1407698.0000 - val_accuracy: 0.0000e+00\n",
      "Epoch 12/100\n",
      "164/164 [==============================] - 0s 3ms/step - loss: 1341378.2697 - accuracy: 0.0000e+00 - val_loss: 1349090.3750 - val_accuracy: 0.0000e+00\n",
      "Epoch 13/100\n",
      "164/164 [==============================] - 1s 4ms/step - loss: 1277210.4008 - accuracy: 0.0000e+00 - val_loss: 1316513.2500 - val_accuracy: 0.0000e+00\n",
      "Epoch 14/100\n",
      "164/164 [==============================] - 1s 4ms/step - loss: 1236028.2841 - accuracy: 0.0000e+00 - val_loss: 1255514.1250 - val_accuracy: 0.0000e+00\n",
      "Epoch 15/100\n",
      "164/164 [==============================] - 1s 4ms/step - loss: 1129948.0830 - accuracy: 0.0000e+00 - val_loss: 1184076.1250 - val_accuracy: 0.0000e+00\n",
      "Epoch 16/100\n",
      "164/164 [==============================] - 1s 3ms/step - loss: 1174534.8265 - accuracy: 0.0000e+00 - val_loss: 1130129.5000 - val_accuracy: 0.0000e+00\n",
      "Epoch 17/100\n",
      "164/164 [==============================] - 1s 3ms/step - loss: 1039839.8750 - accuracy: 0.0000e+00 - val_loss: 1099976.5000 - val_accuracy: 0.0000e+00\n",
      "Epoch 18/100\n",
      "164/164 [==============================] - 1s 3ms/step - loss: 1082714.3076 - accuracy: 0.0000e+00 - val_loss: 1057847.3750 - val_accuracy: 0.0000e+00\n",
      "Epoch 19/100\n",
      "164/164 [==============================] - 0s 3ms/step - loss: 981964.1633 - accuracy: 0.0000e+00 - val_loss: 983728.2500 - val_accuracy: 0.0000e+00\n",
      "Epoch 20/100\n",
      "164/164 [==============================] - 0s 3ms/step - loss: 923741.1277 - accuracy: 0.0000e+00 - val_loss: 958190.7500 - val_accuracy: 0.0000e+00\n",
      "Epoch 21/100\n",
      "164/164 [==============================] - 1s 4ms/step - loss: 889908.1057 - accuracy: 0.0000e+00 - val_loss: 876353.6250 - val_accuracy: 0.0000e+00\n",
      "Epoch 22/100\n",
      "164/164 [==============================] - 0s 3ms/step - loss: 814993.2121 - accuracy: 0.0000e+00 - val_loss: 829834.3125 - val_accuracy: 0.0000e+00\n",
      "Epoch 23/100\n",
      "164/164 [==============================] - 1s 4ms/step - loss: 777287.0504 - accuracy: 0.0000e+00 - val_loss: 793168.2500 - val_accuracy: 0.0000e+00\n",
      "Epoch 24/100\n",
      "164/164 [==============================] - 1s 4ms/step - loss: 746253.3568 - accuracy: 0.0000e+00 - val_loss: 725236.6875 - val_accuracy: 0.0000e+00\n",
      "Epoch 25/100\n",
      "164/164 [==============================] - 1s 3ms/step - loss: 693947.2574 - accuracy: 0.0000e+00 - val_loss: 662383.1875 - val_accuracy: 0.0000e+00\n",
      "Epoch 26/100\n",
      "164/164 [==============================] - 1s 4ms/step - loss: 633201.1337 - accuracy: 0.0000e+00 - val_loss: 627754.6875 - val_accuracy: 0.0000e+00\n",
      "Epoch 27/100\n",
      "164/164 [==============================] - 1s 4ms/step - loss: 659189.5064 - accuracy: 0.0000e+00 - val_loss: 561661.6250 - val_accuracy: 0.0000e+00\n",
      "Epoch 28/100\n",
      "164/164 [==============================] - 1s 3ms/step - loss: 573193.5169 - accuracy: 0.0000e+00 - val_loss: 571348.8750 - val_accuracy: 0.0000e+00\n",
      "Epoch 29/100\n",
      "164/164 [==============================] - 1s 3ms/step - loss: 510243.3919 - accuracy: 0.0000e+00 - val_loss: 554298.2500 - val_accuracy: 0.0000e+00\n",
      "Epoch 30/100\n",
      "164/164 [==============================] - 1s 3ms/step - loss: 523583.3837 - accuracy: 0.0000e+00 - val_loss: 468969.8125 - val_accuracy: 0.0000e+00\n",
      "Epoch 31/100\n",
      "164/164 [==============================] - 0s 3ms/step - loss: 518751.1030 - accuracy: 0.0000e+00 - val_loss: 453692.9375 - val_accuracy: 0.0000e+00\n",
      "Epoch 32/100\n",
      "164/164 [==============================] - 1s 3ms/step - loss: 402955.8524 - accuracy: 0.0000e+00 - val_loss: 433176.4688 - val_accuracy: 0.0000e+00\n",
      "Epoch 33/100\n",
      "164/164 [==============================] - 1s 3ms/step - loss: 414883.3434 - accuracy: 0.0000e+00 - val_loss: 375740.8125 - val_accuracy: 0.0000e+00\n",
      "Epoch 34/100\n",
      "164/164 [==============================] - 0s 3ms/step - loss: 398673.6695 - accuracy: 0.0000e+00 - val_loss: 367292.1562 - val_accuracy: 0.0000e+00\n",
      "Epoch 35/100\n",
      "164/164 [==============================] - 0s 3ms/step - loss: 327038.2261 - accuracy: 0.0000e+00 - val_loss: 359530.7500 - val_accuracy: 0.0000e+00\n",
      "Epoch 36/100\n",
      "164/164 [==============================] - 0s 3ms/step - loss: 355632.3492 - accuracy: 0.0000e+00 - val_loss: 325251.3125 - val_accuracy: 0.0000e+00\n",
      "Epoch 37/100\n",
      "164/164 [==============================] - 1s 3ms/step - loss: 312788.8011 - accuracy: 0.0000e+00 - val_loss: 330185.1875 - val_accuracy: 0.0000e+00\n",
      "Epoch 38/100\n",
      "164/164 [==============================] - 1s 5ms/step - loss: 294016.6633 - accuracy: 0.0000e+00 - val_loss: 285136.1875 - val_accuracy: 0.0000e+00\n",
      "Epoch 39/100\n",
      "164/164 [==============================] - 1s 4ms/step - loss: 269421.5530 - accuracy: 0.0000e+00 - val_loss: 271508.3750 - val_accuracy: 0.0000e+00\n",
      "Epoch 40/100\n",
      "164/164 [==============================] - 0s 3ms/step - loss: 255248.8555 - accuracy: 0.0000e+00 - val_loss: 257737.0781 - val_accuracy: 0.0000e+00\n",
      "Epoch 41/100\n",
      "164/164 [==============================] - 1s 3ms/step - loss: 264374.1645 - accuracy: 0.0000e+00 - val_loss: 214173.8750 - val_accuracy: 0.0000e+00\n",
      "Epoch 42/100\n",
      "164/164 [==============================] - 1s 4ms/step - loss: 211788.0717 - accuracy: 0.0000e+00 - val_loss: 207051.6875 - val_accuracy: 0.0000e+00\n",
      "Epoch 43/100\n",
      "164/164 [==============================] - 1s 3ms/step - loss: 193892.6454 - accuracy: 0.0000e+00 - val_loss: 212063.1719 - val_accuracy: 0.0000e+00\n",
      "Epoch 44/100\n",
      "164/164 [==============================] - 1s 4ms/step - loss: 187834.0303 - accuracy: 0.0000e+00 - val_loss: 209582.4531 - val_accuracy: 0.0000e+00\n",
      "Epoch 45/100\n",
      "164/164 [==============================] - 1s 5ms/step - loss: 156233.3019 - accuracy: 0.0000e+00 - val_loss: 196706.4844 - val_accuracy: 0.0000e+00\n",
      "Epoch 46/100\n",
      "164/164 [==============================] - 1s 3ms/step - loss: 196899.5098 - accuracy: 0.0000e+00 - val_loss: 197868.4688 - val_accuracy: 0.0000e+00\n",
      "Epoch 47/100\n",
      "164/164 [==============================] - 1s 3ms/step - loss: 133754.1620 - accuracy: 0.0000e+00 - val_loss: 198944.8281 - val_accuracy: 0.0000e+00\n",
      "Epoch 48/100\n",
      "164/164 [==============================] - 1s 4ms/step - loss: 141146.1713 - accuracy: 0.0000e+00 - val_loss: 184715.6094 - val_accuracy: 0.0000e+00\n",
      "Epoch 49/100\n",
      "164/164 [==============================] - 0s 3ms/step - loss: 149517.2353 - accuracy: 0.0000e+00 - val_loss: 177899.7656 - val_accuracy: 0.0000e+00\n",
      "Epoch 50/100\n",
      "164/164 [==============================] - 0s 3ms/step - loss: 141616.6526 - accuracy: 0.0000e+00 - val_loss: 174699.3438 - val_accuracy: 0.0000e+00\n",
      "Epoch 51/100\n"
     ]
    },
    {
     "name": "stdout",
     "output_type": "stream",
     "text": [
      "164/164 [==============================] - 0s 3ms/step - loss: 159787.0397 - accuracy: 0.0000e+00 - val_loss: 169366.8281 - val_accuracy: 0.0000e+00\n",
      "Epoch 52/100\n",
      "164/164 [==============================] - 0s 3ms/step - loss: 139834.9348 - accuracy: 0.0000e+00 - val_loss: 158957.3125 - val_accuracy: 0.0000e+00\n",
      "Epoch 53/100\n",
      "164/164 [==============================] - 0s 3ms/step - loss: 117050.6339 - accuracy: 0.0000e+00 - val_loss: 170887.6094 - val_accuracy: 0.0000e+00\n",
      "Epoch 54/100\n",
      "164/164 [==============================] - 0s 3ms/step - loss: 121829.5772 - accuracy: 0.0000e+00 - val_loss: 171901.1094 - val_accuracy: 0.0000e+00\n",
      "Epoch 55/100\n",
      "164/164 [==============================] - 0s 3ms/step - loss: 124289.3667 - accuracy: 0.0000e+00 - val_loss: 159292.4375 - val_accuracy: 0.0000e+00\n",
      "Epoch 56/100\n",
      "164/164 [==============================] - 1s 4ms/step - loss: 135635.6004 - accuracy: 0.0000e+00 - val_loss: 161339.4375 - val_accuracy: 0.0000e+00\n",
      "Epoch 57/100\n",
      "164/164 [==============================] - 1s 3ms/step - loss: 121503.2818 - accuracy: 0.0000e+00 - val_loss: 165481.1719 - val_accuracy: 0.0000e+00\n",
      "Epoch 58/100\n",
      "164/164 [==============================] - 1s 3ms/step - loss: 107834.2557 - accuracy: 0.0000e+00 - val_loss: 163837.7969 - val_accuracy: 0.0000e+00\n",
      "Epoch 59/100\n",
      "164/164 [==============================] - 1s 3ms/step - loss: 114620.6938 - accuracy: 0.0000e+00 - val_loss: 159353.3594 - val_accuracy: 0.0000e+00\n",
      "Epoch 60/100\n",
      "164/164 [==============================] - 1s 3ms/step - loss: 138483.0615 - accuracy: 0.0000e+00 - val_loss: 161870.9062 - val_accuracy: 0.0000e+00\n",
      "Epoch 61/100\n",
      "164/164 [==============================] - 1s 4ms/step - loss: 140519.8428 - accuracy: 0.0000e+00 - val_loss: 155964.2969 - val_accuracy: 0.0000e+00\n",
      "Epoch 62/100\n",
      "164/164 [==============================] - 1s 4ms/step - loss: 147129.6629 - accuracy: 0.0000e+00 - val_loss: 155875.1719 - val_accuracy: 0.0000e+00\n",
      "Epoch 63/100\n",
      "164/164 [==============================] - 1s 4ms/step - loss: 130730.5729 - accuracy: 0.0000e+00 - val_loss: 155862.2969 - val_accuracy: 0.0000e+00\n",
      "Epoch 64/100\n",
      "164/164 [==============================] - 1s 4ms/step - loss: 126991.4178 - accuracy: 0.0000e+00 - val_loss: 159876.9531 - val_accuracy: 0.0000e+00\n",
      "Epoch 65/100\n",
      "164/164 [==============================] - 1s 5ms/step - loss: 130352.2795 - accuracy: 0.0000e+00 - val_loss: 155570.2969 - val_accuracy: 0.0000e+00\n",
      "Epoch 66/100\n",
      "164/164 [==============================] - 1s 4ms/step - loss: 138244.9822 - accuracy: 0.0000e+00 - val_loss: 154813.2812 - val_accuracy: 0.0000e+00\n",
      "Epoch 67/100\n",
      "164/164 [==============================] - 1s 4ms/step - loss: 142206.0361 - accuracy: 0.0000e+00 - val_loss: 151070.6562 - val_accuracy: 0.0000e+00\n",
      "Epoch 68/100\n",
      "164/164 [==============================] - 1s 4ms/step - loss: 104033.3734 - accuracy: 0.0000e+00 - val_loss: 149045.6094 - val_accuracy: 0.0000e+00\n",
      "Epoch 69/100\n",
      "164/164 [==============================] - 1s 5ms/step - loss: 164407.6345 - accuracy: 0.0000e+00 - val_loss: 151131.0156 - val_accuracy: 0.0000e+00\n",
      "Epoch 70/100\n",
      "164/164 [==============================] - 1s 4ms/step - loss: 121405.6163 - accuracy: 0.0000e+00 - val_loss: 151047.0469 - val_accuracy: 0.0000e+00\n",
      "Epoch 71/100\n",
      "164/164 [==============================] - 1s 4ms/step - loss: 119948.7161 - accuracy: 0.0000e+00 - val_loss: 153450.0781 - val_accuracy: 0.0000e+00\n",
      "Epoch 72/100\n",
      "164/164 [==============================] - 1s 4ms/step - loss: 123667.8170 - accuracy: 0.0000e+00 - val_loss: 157505.0781 - val_accuracy: 0.0000e+00\n",
      "Epoch 73/100\n",
      "164/164 [==============================] - 1s 4ms/step - loss: 119526.4946 - accuracy: 0.0000e+00 - val_loss: 152757.2969 - val_accuracy: 0.0000e+00\n",
      "Epoch 74/100\n",
      "164/164 [==============================] - 1s 4ms/step - loss: 118005.9694 - accuracy: 0.0000e+00 - val_loss: 154300.6562 - val_accuracy: 0.0000e+00\n",
      "Epoch 75/100\n",
      "164/164 [==============================] - 1s 3ms/step - loss: 105551.9466 - accuracy: 0.0000e+00 - val_loss: 149423.4375 - val_accuracy: 0.0000e+00\n",
      "Epoch 76/100\n",
      "164/164 [==============================] - 0s 3ms/step - loss: 137150.6677 - accuracy: 0.0000e+00 - val_loss: 153358.5000 - val_accuracy: 0.0000e+00\n",
      "Epoch 77/100\n",
      "164/164 [==============================] - 1s 3ms/step - loss: 128518.7967 - accuracy: 0.0000e+00 - val_loss: 161642.0781 - val_accuracy: 0.0000e+00\n",
      "Epoch 78/100\n",
      "164/164 [==============================] - 0s 3ms/step - loss: 125704.0304 - accuracy: 0.0000e+00 - val_loss: 155666.1719 - val_accuracy: 0.0000e+00\n",
      "Epoch 79/100\n",
      "164/164 [==============================] - 1s 3ms/step - loss: 152276.4310 - accuracy: 0.0000e+00 - val_loss: 159490.8750 - val_accuracy: 0.0000e+00\n",
      "Epoch 80/100\n",
      "164/164 [==============================] - 0s 3ms/step - loss: 119532.8077 - accuracy: 0.0000e+00 - val_loss: 156593.1094 - val_accuracy: 0.0000e+00\n",
      "Epoch 81/100\n",
      "164/164 [==============================] - 1s 3ms/step - loss: 112377.2380 - accuracy: 0.0000e+00 - val_loss: 165299.5156 - val_accuracy: 0.0000e+00\n",
      "Epoch 82/100\n",
      "164/164 [==============================] - 1s 3ms/step - loss: 106964.5173 - accuracy: 0.0000e+00 - val_loss: 167913.9219 - val_accuracy: 0.0000e+00\n",
      "Epoch 83/100\n",
      "164/164 [==============================] - 1s 3ms/step - loss: 105210.5575 - accuracy: 0.0000e+00 - val_loss: 171724.3281 - val_accuracy: 0.0000e+00\n",
      "Epoch 84/100\n",
      "164/164 [==============================] - 1s 3ms/step - loss: 120291.2472 - accuracy: 0.0000e+00 - val_loss: 158483.5625 - val_accuracy: 0.0000e+00\n",
      "Epoch 85/100\n",
      "164/164 [==============================] - 1s 3ms/step - loss: 102220.5228 - accuracy: 0.0000e+00 - val_loss: 159109.4688 - val_accuracy: 0.0000e+00\n",
      "Epoch 86/100\n",
      "164/164 [==============================] - 1s 3ms/step - loss: 102644.2921 - accuracy: 0.0000e+00 - val_loss: 172770.0000 - val_accuracy: 0.0000e+00\n",
      "Epoch 87/100\n",
      "164/164 [==============================] - 1s 3ms/step - loss: 134998.1871 - accuracy: 0.0000e+00 - val_loss: 171503.8594 - val_accuracy: 0.0000e+00\n",
      "Epoch 88/100\n",
      "164/164 [==============================] - 1s 3ms/step - loss: 138255.1875 - accuracy: 0.0000e+00 - val_loss: 173496.3750 - val_accuracy: 0.0000e+00\n",
      "Epoch 89/100\n",
      "164/164 [==============================] - 0s 3ms/step - loss: 154689.4641 - accuracy: 0.0000e+00 - val_loss: 168660.3438 - val_accuracy: 0.0000e+00\n",
      "Epoch 90/100\n",
      "164/164 [==============================] - 1s 4ms/step - loss: 137388.6381 - accuracy: 0.0000e+00 - val_loss: 162694.3438 - val_accuracy: 0.0000e+00\n",
      "Epoch 91/100\n",
      "164/164 [==============================] - 0s 3ms/step - loss: 118786.0769 - accuracy: 0.0000e+00 - val_loss: 158041.3281 - val_accuracy: 0.0000e+00\n",
      "Epoch 92/100\n",
      "164/164 [==============================] - 1s 3ms/step - loss: 107534.4336 - accuracy: 0.0000e+00 - val_loss: 161166.5938 - val_accuracy: 0.0000e+00\n",
      "Epoch 93/100\n",
      "164/164 [==============================] - 1s 4ms/step - loss: 115242.3741 - accuracy: 0.0000e+00 - val_loss: 156613.5000 - val_accuracy: 0.0000e+00\n",
      "Epoch 94/100\n",
      "164/164 [==============================] - 1s 3ms/step - loss: 123282.3915 - accuracy: 0.0000e+00 - val_loss: 161584.3438 - val_accuracy: 0.0000e+00\n",
      "Epoch 95/100\n",
      "164/164 [==============================] - 1s 3ms/step - loss: 118143.8429 - accuracy: 0.0000e+00 - val_loss: 164768.8281 - val_accuracy: 0.0000e+00\n",
      "Epoch 96/100\n",
      "164/164 [==============================] - 1s 3ms/step - loss: 107724.4940 - accuracy: 0.0000e+00 - val_loss: 161740.5625 - val_accuracy: 0.0000e+00\n",
      "Epoch 97/100\n",
      "164/164 [==============================] - 1s 3ms/step - loss: 119463.4570 - accuracy: 0.0000e+00 - val_loss: 167892.6250 - val_accuracy: 0.0000e+00\n",
      "Epoch 98/100\n",
      "164/164 [==============================] - 1s 3ms/step - loss: 114949.4806 - accuracy: 0.0000e+00 - val_loss: 161610.0469 - val_accuracy: 0.0000e+00\n",
      "Epoch 99/100\n",
      "164/164 [==============================] - 1s 3ms/step - loss: 123823.2474 - accuracy: 0.0000e+00 - val_loss: 161318.2500 - val_accuracy: 0.0000e+00\n",
      "Epoch 100/100\n",
      "164/164 [==============================] - 1s 4ms/step - loss: 112065.8357 - accuracy: 0.0000e+00 - val_loss: 158277.8438 - val_accuracy: 0.0000e+00\n"
     ]
    }
   ],
   "source": [
    "history = model.fit(\n",
    "                 X_train,\n",
    "                 y_train,\n",
    "                 epochs=100, \n",
    "                 batch_size=5, \n",
    "                 validation_split=0.3,\n",
    "                )"
   ]
  },
  {
   "cell_type": "code",
   "execution_count": 245,
   "id": "469314b8",
   "metadata": {},
   "outputs": [],
   "source": [
    "test_predictions = model.predict(X_test).flatten().round(0)"
   ]
  },
  {
   "cell_type": "code",
   "execution_count": 246,
   "id": "73347357",
   "metadata": {},
   "outputs": [],
   "source": [
    "train_predictions = model.predict(X_train).flatten().round(0)"
   ]
  },
  {
   "cell_type": "code",
   "execution_count": 247,
   "id": "075363e5",
   "metadata": {},
   "outputs": [
    {
     "data": {
      "text/plain": [
       "array([1171., 1597., 1266., 1108., 1786.,  783.,  756., 2065., 1922.,\n",
       "        422., 1275., 1539.,  702.,  729., 1941.,  763.,  792.,  690.,\n",
       "       3003.,  650.], dtype=float32)"
      ]
     },
     "execution_count": 247,
     "metadata": {},
     "output_type": "execute_result"
    }
   ],
   "source": [
    "test_predictions[:20]"
   ]
  },
  {
   "cell_type": "code",
   "execution_count": 248,
   "id": "db5189c5",
   "metadata": {
    "scrolled": true
   },
   "outputs": [
    {
     "data": {
      "text/plain": [
       "array([1340, 1934, 1112, 1200, 2072,  705,  546, 1591, 1977,  785, 1718,\n",
       "       1199,  659,  621, 2092,  543,  766, 1062, 2707,  590])"
      ]
     },
     "execution_count": 248,
     "metadata": {},
     "output_type": "execute_result"
    }
   ],
   "source": [
    "y_test[:20]"
   ]
  },
  {
   "cell_type": "code",
   "execution_count": 249,
   "id": "0e958e7f",
   "metadata": {
    "scrolled": true
   },
   "outputs": [
    {
     "name": "stdout",
     "output_type": "stream",
     "text": [
      "Test\n",
      "RMSE:  335.4711756950546\n",
      "R2:  0.6865301539878872\n",
      "MAPE:  0.24574589411196118\n",
      "Train\n",
      "RMSE:  300.705554212406\n",
      "R2:  0.7676047900902452\n",
      "MAPE:  0.21907471629647196\n"
     ]
    }
   ],
   "source": [
    "print('Test')\n",
    "print_scores(y_test, test_predictions)\n",
    "print('Train')\n",
    "print_scores(y_train, train_predictions)"
   ]
  },
  {
   "cell_type": "code",
   "execution_count": null,
   "id": "5cc77f44",
   "metadata": {},
   "outputs": [],
   "source": []
  }
 ],
 "metadata": {
  "kernelspec": {
   "display_name": "Python 3",
   "language": "python",
   "name": "python3"
  },
  "language_info": {
   "codemirror_mode": {
    "name": "ipython",
    "version": 3
   },
   "file_extension": ".py",
   "mimetype": "text/x-python",
   "name": "python",
   "nbconvert_exporter": "python",
   "pygments_lexer": "ipython3",
   "version": "3.9.1"
  }
 },
 "nbformat": 4,
 "nbformat_minor": 5
}
